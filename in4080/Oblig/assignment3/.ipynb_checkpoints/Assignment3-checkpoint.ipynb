{
 "cells": [
  {
   "cell_type": "markdown",
   "metadata": {},
   "source": [
    "### Exercise 0"
   ]
  },
  {
   "cell_type": "code",
   "execution_count": 1,
   "metadata": {},
   "outputs": [
    {
     "data": {
      "text/plain": [
       "['/usr/local/Cellar/python/3.7.4/Frameworks/Python.framework/Versions/3.7/lib/python3.7/site-packages']"
      ]
     },
     "execution_count": 1,
     "metadata": {},
     "output_type": "execute_result"
    }
   ],
   "source": [
    "import site\n",
    "site.getsitepackages()"
   ]
  },
  {
   "cell_type": "markdown",
   "metadata": {},
   "source": [
    "### Exercise 1.1"
   ]
  },
  {
   "cell_type": "code",
   "execution_count": 2,
   "metadata": {},
   "outputs": [
    {
     "name": "stdout",
     "output_type": "stream",
     "text": [
      "(S\n",
      "  (PP Over/IN)\n",
      "  (NP a/DT cup/NN)\n",
      "  (PP of/IN)\n",
      "  (NP coffee/NN)\n",
      "  ,/,\n",
      "  (NP Mr./NNP Stone/NNP)\n",
      "  (VP told/VBD)\n",
      "  (NP his/PRP$ story/NN)\n",
      "  ./.)\n"
     ]
    }
   ],
   "source": [
    "import nltk\n",
    "import pprint\n",
    "from nltk.corpus import conll2000\n",
    "print(conll2000.chunked_sents('train.txt')[99])"
   ]
  },
  {
   "cell_type": "code",
   "execution_count": 3,
   "metadata": {},
   "outputs": [
    {
     "name": "stdout",
     "output_type": "stream",
     "text": [
      "(S\n",
      "  Over/IN\n",
      "  (NP a/DT cup/NN)\n",
      "  of/IN\n",
      "  (NP coffee/NN)\n",
      "  ,/,\n",
      "  (NP Mr./NNP Stone/NNP)\n",
      "  told/VBD\n",
      "  (NP his/PRP$ story/NN)\n",
      "  ./.)\n"
     ]
    }
   ],
   "source": [
    "print(conll2000.chunked_sents('train.txt', chunk_types=['NP'])[99])"
   ]
  },
  {
   "cell_type": "code",
   "execution_count": 4,
   "metadata": {},
   "outputs": [
    {
     "data": {
      "text/plain": [
       "[('Over', 'IN', 'B-PP'),\n",
       " ('a', 'DT', 'B-NP'),\n",
       " ('cup', 'NN', 'I-NP'),\n",
       " ('of', 'IN', 'B-PP'),\n",
       " ('coffee', 'NN', 'B-NP'),\n",
       " (',', ',', 'O'),\n",
       " ('Mr.', 'NNP', 'B-NP'),\n",
       " ('Stone', 'NNP', 'I-NP'),\n",
       " ('told', 'VBD', 'B-VP'),\n",
       " ('his', 'PRP$', 'B-NP'),\n",
       " ('story', 'NN', 'I-NP'),\n",
       " ('.', '.', 'O')]"
      ]
     },
     "execution_count": 4,
     "metadata": {},
     "output_type": "execute_result"
    }
   ],
   "source": [
    "nltk.chunk.tree2conlltags(conll2000.chunked_sents('train.txt')[99])"
   ]
  },
  {
   "cell_type": "code",
   "execution_count": 5,
   "metadata": {},
   "outputs": [
    {
     "name": "stdout",
     "output_type": "stream",
     "text": [
      "8936\n"
     ]
    }
   ],
   "source": [
    "dev_set = conll2000.chunked_sents('train.txt', chunk_types=['NP'])\n",
    "print(len(dev_set))\n",
    "dev_train = dev_set[:-1000]\n",
    "dev_test = dev_set[-1000:]"
   ]
  },
  {
   "cell_type": "markdown",
   "metadata": {},
   "source": [
    "### Exercise 1.2"
   ]
  },
  {
   "cell_type": "code",
   "execution_count": 6,
   "metadata": {},
   "outputs": [],
   "source": [
    "class UnigramChunker(nltk.ChunkParserI):\n",
    "    def __init__(self, train_sents):\n",
    "        train_data = [[(t,c) for w,t,c in nltk.chunk.tree2conlltags(sent)]\n",
    "            for sent in train_sents]\n",
    "        self.tagger = nltk.UnigramTagger(train_data)\n",
    "        \n",
    "    def parse(self, sentence):\n",
    "        pos_tags = [pos for (word,pos) in sentence]\n",
    "        tagged_pos_tags = self.tagger.tag(pos_tags)\n",
    "        chunktags = [chunktag\n",
    "                     for (pos, chunktag) in tagged_pos_tags]\n",
    "        conlltags = [(word, pos, chunktag)\n",
    "                     for ((word,pos),chunktag)\n",
    "                     in zip(sentence, chunktags)]\n",
    "        return nltk.chunk.conlltags2tree(conlltags)"
   ]
  },
  {
   "cell_type": "code",
   "execution_count": 7,
   "metadata": {},
   "outputs": [
    {
     "name": "stdout",
     "output_type": "stream",
     "text": [
      "ChunkParse score:\n",
      "    IOB Accuracy:  92.7%%\n",
      "    Precision:     78.9%%\n",
      "    Recall:        85.2%%\n",
      "    F-Measure:     81.9%%\n"
     ]
    }
   ],
   "source": [
    "unigram_chunker = UnigramChunker(dev_train)\n",
    "print(unigram_chunker.evaluate(dev_test))"
   ]
  },
  {
   "cell_type": "markdown",
   "metadata": {},
   "source": [
    "### Exercise 1.3"
   ]
  },
  {
   "cell_type": "code",
   "execution_count": 8,
   "metadata": {},
   "outputs": [],
   "source": [
    "def npchunk_features_0(sentence, i, history):\n",
    "    word, pos = sentence[i]\n",
    "    return {\"pos\": pos}"
   ]
  },
  {
   "cell_type": "code",
   "execution_count": 9,
   "metadata": {},
   "outputs": [],
   "source": [
    "class ConsecutiveTagger(nltk.TaggerI):\n",
    "    def __init__(self, train_sents, features=npchunk_features_0, learner=nltk.NaiveBayesClassifier):\n",
    "        self.features = features\n",
    "        train_set = []\n",
    "        for tagged_sent in train_sents:\n",
    "            untagged_sent = nltk.tag.untag(tagged_sent)\n",
    "            history = []\n",
    "            for i, (word, tag) in enumerate(tagged_sent):\n",
    "                featureset = features(untagged_sent, i, history)\n",
    "                train_set.append( (featureset, tag) )\n",
    "                history.append(tag)\n",
    "        self.classifier = learner.train(train_set)\n",
    "    \n",
    "    def tag(self, sentence):\n",
    "        history = []\n",
    "        for i, word in enumerate(sentence):\n",
    "            featureset = self.features(sentence, i, history)\n",
    "            tag = self.classifier.classify(featureset)\n",
    "            history.append(tag)\n",
    "        return zip(sentence, history)"
   ]
  },
  {
   "cell_type": "code",
   "execution_count": 10,
   "metadata": {},
   "outputs": [],
   "source": [
    "class Chunker(nltk.ChunkParserI):\n",
    "    def __init__(self, train_sents,\n",
    "        tagger=ConsecutiveTagger, **kwargs):\n",
    "        tagged_sents = [[((w,t),c)\n",
    "                        for (w,t,c) in nltk.chunk.tree2conlltags(sent)]\n",
    "                        for sent in train_sents]\n",
    "        self.tagger = tagger(tagged_sents, **kwargs)\n",
    "        \n",
    "    def parse(self, sentence):\n",
    "        tagged_sents = self.tagger.tag(sentence)\n",
    "        conlltags = [(w,t,c) for ((w,t),c) in tagged_sents]\n",
    "        return nltk.chunk.conlltags2tree(conlltags)"
   ]
  },
  {
   "cell_type": "code",
   "execution_count": 11,
   "metadata": {},
   "outputs": [
    {
     "name": "stdout",
     "output_type": "stream",
     "text": [
      "ChunkParse score:\n",
      "    IOB Accuracy:  92.7%%\n",
      "    Precision:     78.9%%\n",
      "    Recall:        85.2%%\n",
      "    F-Measure:     81.9%%\n"
     ]
    }
   ],
   "source": [
    "chunker_0 = Chunker(dev_train, features=npchunk_features_0)\n",
    "score_0 = chunker_0.evaluate(dev_test)\n",
    "print(score_0)"
   ]
  },
  {
   "cell_type": "code",
   "execution_count": 12,
   "metadata": {},
   "outputs": [
    {
     "data": {
      "text/plain": [
       "0.8189038295195408"
      ]
     },
     "execution_count": 12,
     "metadata": {},
     "output_type": "execute_result"
    }
   ],
   "source": [
    "score_0.f_measure()"
   ]
  },
  {
   "cell_type": "markdown",
   "metadata": {},
   "source": [
    "### Exercise 1.4"
   ]
  },
  {
   "cell_type": "code",
   "execution_count": 13,
   "metadata": {},
   "outputs": [],
   "source": [
    "def npchunk_features_1(sentence, i, history):\n",
    "    word, pos = sentence[i]\n",
    "    if i == 0:\n",
    "        prevword, prevpos = \"<START>\", \"<START>\"\n",
    "    else:\n",
    "        prevword, prevpos = sentence[i-1]\n",
    "        \n",
    "    return {\"pos\": pos, \"prevpos\": prevpos}\n",
    "\n",
    "def npchunk_features_2(sentence, i, history):\n",
    "    word, pos = sentence[i]\n",
    "    \n",
    "    if i == 0:\n",
    "        prevword, prevpos = \"<START>\", \"<START>\"\n",
    "    else:\n",
    "        prevword, prevpos = sentence[i-1]\n",
    "        \n",
    "    return {\"pos\": pos, \"word\": word, \"prevpos\": prevpos}\n",
    "\n",
    "def npchunk_features_3(sentence, i, history):\n",
    "    word, pos = sentence[i]\n",
    "    if i == 0:\n",
    "        prevword, prevpos = \"<START>\", \"<START>\"\n",
    "    else:\n",
    "        prevword, prevpos = sentence[i-1]\n",
    "    \n",
    "    if i == len(sentence)-1:\n",
    "        nextword, nextpos = \"<END>\", \"<END>\"\n",
    "    else:\n",
    "        nextword, nextpos = sentence[i+1]\n",
    "    \n",
    "    return {\"pos\": pos,\n",
    "            \"word\": word,\n",
    "            \"prevpos\": prevpos,\n",
    "            \"nextpos\": nextpos, \n",
    "            \"prevpos+pos\": \"%s+%s\" % (prevpos, pos),\n",
    "            \"pos+nextpos\": \"%s+%s\" % (pos, nextpos),\n",
    "            \"tags-since-dt\": tags_since_dt(sentence, i)} "
   ]
  },
  {
   "cell_type": "code",
   "execution_count": 14,
   "metadata": {},
   "outputs": [],
   "source": [
    "def tags_since_dt(sentence, i):\n",
    "     tags = set()\n",
    "     for word, pos in sentence[:i]:\n",
    "         if pos == 'DT':\n",
    "             tags = set()\n",
    "         else:\n",
    "             tags.add(pos)\n",
    "     return '+'.join(sorted(tags))"
   ]
  },
  {
   "cell_type": "code",
   "execution_count": 15,
   "metadata": {},
   "outputs": [
    {
     "name": "stdout",
     "output_type": "stream",
     "text": [
      "feature 0: \n",
      " ChunkParse score:\n",
      "    IOB Accuracy:  92.7%%\n",
      "    Precision:     78.9%%\n",
      "    Recall:        85.2%%\n",
      "    F-Measure:     81.9%%\n",
      "0.8189038295195408\n",
      "feature 1: \n",
      " ChunkParse score:\n",
      "    IOB Accuracy:  93.3%%\n",
      "    Precision:     80.6%%\n",
      "    Recall:        86.8%%\n",
      "    F-Measure:     83.6%%\n",
      "0.8359571788413097\n",
      "feature 2: \n",
      " ChunkParse score:\n",
      "    IOB Accuracy:  94.1%%\n",
      "    Precision:     83.0%%\n",
      "    Recall:        88.4%%\n",
      "    F-Measure:     85.6%%\n",
      "0.8557852221430268\n",
      "feature 3: \n",
      " ChunkParse score:\n",
      "    IOB Accuracy:  94.7%%\n",
      "    Precision:     84.7%%\n",
      "    Recall:        88.8%%\n",
      "    F-Measure:     86.7%%\n",
      "0.8674756506466549\n",
      "CPU times: user 17.4 s, sys: 438 ms, total: 17.8 s\n",
      "Wall time: 18.9 s\n"
     ]
    }
   ],
   "source": [
    "%%time\n",
    "chunker_0 = Chunker(dev_train, features=npchunk_features_0)\n",
    "score_0 = chunker_0.evaluate(dev_test)\n",
    "print(\"feature 0: \\n\", score_0)\n",
    "print(score_0.f_measure())\n",
    "\n",
    "chunker_1 = Chunker(dev_train, features=npchunk_features_1)\n",
    "score_1 = chunker_1.evaluate(dev_test)\n",
    "print(\"feature 1: \\n\", score_1)\n",
    "print(score_1.f_measure())\n",
    "\n",
    "\n",
    "chunker_2 = Chunker(dev_train, features=npchunk_features_2)\n",
    "score_2 = chunker_2.evaluate(dev_test)\n",
    "print(\"feature 2: \\n\", score_2)\n",
    "print(score_2.f_measure())\n",
    "\n",
    "\n",
    "chunker_3 = Chunker(dev_train, features=npchunk_features_3)\n",
    "score_3 = chunker_3.evaluate(dev_test)\n",
    "print(\"feature 3: \\n\", score_3)\n",
    "print(score_3.f_measure())"
   ]
  },
  {
   "cell_type": "markdown",
   "metadata": {},
   "source": [
    "### Exercise 2.1"
   ]
  },
  {
   "cell_type": "code",
   "execution_count": 16,
   "metadata": {},
   "outputs": [],
   "source": [
    "def npchunk_features_00(sentence, i, history):\n",
    "    word, pos = sentence[i]\n",
    "    return {\"pos\": pos,\n",
    "            \"predTag\": history[-1] if len(history)>0 else \"\"}\n",
    "\n",
    "def npchunk_features_01(sentence, i, history):\n",
    "    word, pos = sentence[i]\n",
    "    if i == 0:\n",
    "        prevword, prevpos = \"<START>\", \"<START>\"\n",
    "    else:\n",
    "        prevword, prevpos = sentence[i-1]\n",
    "        \n",
    "    return {\"pos\": pos, \"prevpos\": prevpos,\n",
    "            \"predTag\": history[-1] if len(history)>0 else \"\"}\n",
    "\n",
    "def npchunk_features_02(sentence, i, history):\n",
    "    word, pos = sentence[i]\n",
    "    \n",
    "    if i == 0:\n",
    "        prevword, prevpos = \"<START>\", \"<START>\"\n",
    "    else:\n",
    "        prevword, prevpos = sentence[i-1]\n",
    "        \n",
    "    return {\"pos\": pos, \"word\": word, \"prevpos\": prevpos,\n",
    "            \"predTag\": history[-1] if len(history)>0 else \"\"}\n",
    "\n",
    "def npchunk_features_03(sentence, i, history):\n",
    "    word, pos = sentence[i]\n",
    "    \n",
    "    if i == 0:\n",
    "        prevword, prevpos = \"<START>\", \"<START>\"\n",
    "    else:\n",
    "        prevword, prevpos = sentence[i-1]\n",
    "    \n",
    "    if i == len(sentence)-1:\n",
    "        nextword, nextpos = \"<END>\", \"<END>\"\n",
    "    else:\n",
    "        nextword, nextpos = sentence[i+1]\n",
    "    \n",
    "    return {\"pos\": pos,\n",
    "            \"word\": word,\n",
    "            \"prevpos\": prevpos,\n",
    "            \"nextpos\": nextpos, \n",
    "            \"prevpos+pos\": \"%s+%s\" % (prevpos, pos),\n",
    "            \"pos+nextpos\": \"%s+%s\" % (pos, nextpos),\n",
    "            \"tags-since-dt\": tags_since_dt(sentence, i),\n",
    "            \"predTag\": history[-1] if len(history)>0 else \"\"} "
   ]
  },
  {
   "cell_type": "code",
   "execution_count": 17,
   "metadata": {},
   "outputs": [
    {
     "name": "stdout",
     "output_type": "stream",
     "text": [
      "feature 00: \n",
      " ChunkParse score:\n",
      "    IOB Accuracy:  93.0%%\n",
      "    Precision:     80.8%%\n",
      "    Recall:        85.1%%\n",
      "    F-Measure:     82.9%%\n",
      "0.8290312300828552\n",
      "feature 01: \n",
      " ChunkParse score:\n",
      "    IOB Accuracy:  92.6%%\n",
      "    Precision:     79.4%%\n",
      "    Recall:        83.0%%\n",
      "    F-Measure:     81.2%%\n",
      "0.811575665520825\n",
      "feature 02: \n",
      " ChunkParse score:\n",
      "    IOB Accuracy:  94.3%%\n",
      "    Precision:     83.6%%\n",
      "    Recall:        88.0%%\n",
      "    F-Measure:     85.7%%\n",
      "0.8574386747371775\n",
      "feature 03: \n",
      " ChunkParse score:\n",
      "    IOB Accuracy:  94.8%%\n",
      "    Precision:     85.5%%\n",
      "    Recall:        88.1%%\n",
      "    F-Measure:     86.8%%\n",
      "0.8678151666398326\n",
      "CPU times: user 19.2 s, sys: 248 ms, total: 19.4 s\n",
      "Wall time: 20.4 s\n"
     ]
    }
   ],
   "source": [
    "%%time\n",
    "chunker_00 = Chunker(dev_train, features=npchunk_features_00)\n",
    "score_00 = chunker_00.evaluate(dev_test)\n",
    "print(\"feature 00: \\n\", score_00)\n",
    "print(score_00.f_measure())\n",
    "\n",
    "chunker_01 = Chunker(dev_train, features=npchunk_features_01)\n",
    "score_01 = chunker_01.evaluate(dev_test)\n",
    "print(\"feature 01: \\n\", score_01)\n",
    "print(score_01.f_measure())\n",
    "\n",
    "\n",
    "chunker_02 = Chunker(dev_train, features=npchunk_features_02)\n",
    "score_02 = chunker_02.evaluate(dev_test)\n",
    "print(\"feature 02: \\n\", score_02)\n",
    "print(score_02.f_measure())\n",
    "\n",
    "\n",
    "chunker_03 = Chunker(dev_train, features=npchunk_features_03)\n",
    "score_03 = chunker_03.evaluate(dev_test)\n",
    "print(\"feature 03: \\n\", score_03)\n",
    "print(score_03.f_measure())"
   ]
  },
  {
   "cell_type": "markdown",
   "metadata": {},
   "source": [
    "### Exercise 3"
   ]
  },
  {
   "cell_type": "code",
   "execution_count": 18,
   "metadata": {},
   "outputs": [],
   "source": [
    "import numpy as np\n",
    "import sklearn\n",
    "from sklearn.naive_bayes import BernoulliNB\n",
    "from sklearn.linear_model import LogisticRegression\n",
    "from sklearn.feature_extraction import DictVectorizer"
   ]
  },
  {
   "cell_type": "code",
   "execution_count": 19,
   "metadata": {},
   "outputs": [],
   "source": [
    "class ScikitSentenceTagger(nltk.TaggerI):\n",
    "    def __init__(self, train_sents, clf=BernoulliNB(alpha=0.5), features=npchunk_features_0):\n",
    "        self.features = features\n",
    "        train_features = []\n",
    "        train_labels = []\n",
    "        for tagged_sent in train_sents:\n",
    "            untagged_sent = nltk.tag.untag(tagged_sent)\n",
    "            history = []\n",
    "            for i, (word, tag) in enumerate(tagged_sent):\n",
    "                featureset = features(untagged_sent, i, history)\n",
    "                train_features.append(featureset)\n",
    "                train_labels.append(tag)\n",
    "                history.append(tag)\n",
    "        v = DictVectorizer()\n",
    "        X_train = v.fit_transform(train_features)\n",
    "        y_train = np.array(train_labels)\n",
    "        clf.fit(X_train, y_train)\n",
    "        self.classifier = clf\n",
    "        self.dict = v\n",
    "    \n",
    "    def tag(self, sentence):\n",
    "        test_features = []\n",
    "        for i, word in enumerate(sentence):\n",
    "            featureset = self.features(sentence, i, [])\n",
    "            test_features.append(featureset)\n",
    "            X_test = self.dict.transform(test_features)\n",
    "            tags = self.classifier.predict(X_test)\n",
    "        return zip(sentence, tags)"
   ]
  },
  {
   "cell_type": "code",
   "execution_count": 20,
   "metadata": {},
   "outputs": [
    {
     "name": "stdout",
     "output_type": "stream",
     "text": [
      "ChunkParse score:\n",
      "    IOB Accuracy:  92.7%%\n",
      "    Precision:     78.9%%\n",
      "    Recall:        85.2%%\n",
      "    F-Measure:     81.9%%\n",
      "0.8189038295195408\n",
      "feature 1: \n",
      " ChunkParse score:\n",
      "    IOB Accuracy:  93.3%%\n",
      "    Precision:     80.7%%\n",
      "    Recall:        87.0%%\n",
      "    F-Measure:     83.7%%\n",
      "0.8372569089048107\n",
      "----------NLTK scores:----------\n",
      "feature 0: \n",
      " ChunkParse score:\n",
      "    IOB Accuracy:  92.7%%\n",
      "    Precision:     78.9%%\n",
      "    Recall:        85.2%%\n",
      "    F-Measure:     81.9%%\n",
      "0.8189038295195408\n",
      "feature 1: \n",
      " ChunkParse score:\n",
      "    IOB Accuracy:  93.3%%\n",
      "    Precision:     80.6%%\n",
      "    Recall:        86.8%%\n",
      "    F-Measure:     83.6%%\n",
      "0.8359571788413097\n",
      "CPU times: user 25 s, sys: 243 ms, total: 25.2 s\n",
      "Wall time: 26.5 s\n"
     ]
    }
   ],
   "source": [
    "%%time\n",
    "sci_chunker_0 = Chunker(dev_train, tagger=ScikitSentenceTagger, features=npchunk_features_0)\n",
    "sci_score_0 = sci_chunker_0.evaluate(dev_test)\n",
    "print(sci_score_0)\n",
    "print(sci_score_0.f_measure())\n",
    "\n",
    "sci_chunker_1 = Chunker(dev_train, tagger=ScikitSentenceTagger, features=npchunk_features_1)\n",
    "sci_score_1 = sci_chunker_1.evaluate(dev_test)\n",
    "print(\"feature 1: \\n\", sci_score_1)\n",
    "print(sci_score_1.f_measure())\n",
    "\n",
    "print(\"----------NLTK scores:----------\")\n",
    "print(\"feature 0: \\n\", score_0)\n",
    "print(score_0.f_measure())\n",
    "print(\"feature 1: \\n\", score_1)\n",
    "print(score_1.f_measure())"
   ]
  },
  {
   "cell_type": "markdown",
   "metadata": {},
   "source": [
    "### Exercise 4.1"
   ]
  },
  {
   "cell_type": "code",
   "execution_count": 21,
   "metadata": {},
   "outputs": [
    {
     "name": "stderr",
     "output_type": "stream",
     "text": [
      "/usr/local/lib/python3.7/site-packages/sklearn/linear_model/logistic.py:432: FutureWarning: Default solver will be changed to 'lbfgs' in 0.22. Specify a solver to silence this warning.\n",
      "  FutureWarning)\n",
      "/usr/local/lib/python3.7/site-packages/sklearn/linear_model/logistic.py:469: FutureWarning: Default multi_class will be changed to 'auto' in 0.22. Specify the multi_class option to silence this warning.\n",
      "  \"this warning.\", FutureWarning)\n"
     ]
    },
    {
     "name": "stdout",
     "output_type": "stream",
     "text": [
      "feature 00: \n",
      " ChunkParse score:\n",
      "    IOB Accuracy:  92.7%%\n",
      "    Precision:     78.9%%\n",
      "    Recall:        85.2%%\n",
      "    F-Measure:     81.9%%\n",
      "0.8189038295195408\n",
      "feature 01: \n",
      " ChunkParse score:\n",
      "    IOB Accuracy:  93.2%%\n",
      "    Precision:     80.3%%\n",
      "    Recall:        85.0%%\n",
      "    F-Measure:     82.6%%\n",
      "0.8257172375427164\n",
      "feature 02: \n",
      " ChunkParse score:\n",
      "    IOB Accuracy:  94.4%%\n",
      "    Precision:     83.0%%\n",
      "    Recall:        87.8%%\n",
      "    F-Measure:     85.3%%\n",
      "0.8529201430274136\n",
      "feature 03: \n",
      " ChunkParse score:\n",
      "    IOB Accuracy:  93.2%%\n",
      "    Precision:     80.3%%\n",
      "    Recall:        85.0%%\n",
      "    F-Measure:     82.6%%\n",
      "0.8257172375427164\n",
      "CPU times: user 45.1 s, sys: 1.03 s, total: 46.1 s\n",
      "Wall time: 44.5 s\n"
     ]
    }
   ],
   "source": [
    "%%time\n",
    "sci_chunker_00 = Chunker(dev_train, tagger=ScikitSentenceTagger,\n",
    "                        clf=LogisticRegression(), features=npchunk_features_0)\n",
    "sci_score_00 = sci_chunker_00.evaluate(dev_test)\n",
    "print(\"feature 00: \\n\", sci_score_00)\n",
    "print(sci_score_00.f_measure())\n",
    "\n",
    "sci_chunker_01 = Chunker(dev_train, tagger=ScikitSentenceTagger,\n",
    "                        clf=LogisticRegression(), features=npchunk_features_1)\n",
    "sci_score_01 = sci_chunker_01.evaluate(dev_test)\n",
    "print(\"feature 01: \\n\", sci_score_01)\n",
    "print(sci_score_01.f_measure())\n",
    "\n",
    "sci_chunker_02 = Chunker(dev_train, tagger=ScikitSentenceTagger,\n",
    "                        clf=LogisticRegression(), features=npchunk_features_2)\n",
    "sci_score_02 = sci_chunker_02.evaluate(dev_test)\n",
    "print(\"feature 02: \\n\", sci_score_02)\n",
    "print(sci_score_02.f_measure())\n",
    "\n",
    "sci_chunker_03 = Chunker(dev_train, tagger=ScikitSentenceTagger,\n",
    "                        clf=LogisticRegression(), features=npchunk_features_1)\n",
    "sci_score_03 = sci_chunker_03.evaluate(dev_test)\n",
    "print(\"feature 03: \\n\", sci_score_03)\n",
    "print(sci_score_03.f_measure())"
   ]
  },
  {
   "cell_type": "markdown",
   "metadata": {},
   "source": [
    "### Exercise 5"
   ]
  },
  {
   "cell_type": "code",
   "execution_count": 22,
   "metadata": {},
   "outputs": [],
   "source": [
    "class ScikitWordTagger(nltk.TaggerI):\n",
    "    def __init__(self, train_sents,\n",
    "        features=npchunk_features_0,\n",
    "        clf = BernoulliNB(alpha=0.5)):\n",
    "        self.features = features\n",
    "        train_features = []\n",
    "        train_labels = []\n",
    "        for tagged_sent in train_sents:\n",
    "            untagged_sent = nltk.tag.untag(tagged_sent)\n",
    "            history = []\n",
    "            for i, (word, tag) in enumerate(tagged_sent):\n",
    "                featureset = features(untagged_sent, i, history)\n",
    "                train_features.append(featureset)\n",
    "                train_labels.append(tag)\n",
    "                history.append(tag)\n",
    "        v = DictVectorizer()\n",
    "        X_train = v.fit_transform(train_features)\n",
    "        y_train = np.array(train_labels)\n",
    "        clf.fit(X_train, y_train)\n",
    "        self.classifier = clf\n",
    "        self.dict = v\n",
    "        \n",
    "    def tag(self, sentence):\n",
    "        history = []\n",
    "        tags=[]\n",
    "        for i, word in enumerate(sentence):\n",
    "            featureset = self.features(sentence, i, history)\n",
    "            test_features=[featureset]\n",
    "            X_test = self.dict.transform(test_features)\n",
    "            tag = self.classifier.predict(X_test)\n",
    "            tags.extend(tag)\n",
    "            history.extend(tag)\n",
    "        return zip(sentence, tags)"
   ]
  },
  {
   "cell_type": "code",
   "execution_count": 23,
   "metadata": {},
   "outputs": [
    {
     "name": "stdout",
     "output_type": "stream",
     "text": [
      "feature 1: \n",
      " ChunkParse score:\n",
      "    IOB Accuracy:  93.3%%\n",
      "    Precision:     80.7%%\n",
      "    Recall:        87.0%%\n",
      "    F-Measure:     83.7%%\n",
      "0.8372569089048107\n"
     ]
    },
    {
     "name": "stderr",
     "output_type": "stream",
     "text": [
      "/usr/local/lib/python3.7/site-packages/sklearn/linear_model/logistic.py:432: FutureWarning: Default solver will be changed to 'lbfgs' in 0.22. Specify a solver to silence this warning.\n",
      "  FutureWarning)\n",
      "/usr/local/lib/python3.7/site-packages/sklearn/linear_model/logistic.py:469: FutureWarning: Default multi_class will be changed to 'auto' in 0.22. Specify the multi_class option to silence this warning.\n",
      "  \"this warning.\", FutureWarning)\n"
     ]
    },
    {
     "name": "stdout",
     "output_type": "stream",
     "text": [
      "feature 1: \n",
      " ChunkParse score:\n",
      "    IOB Accuracy:  93.2%%\n",
      "    Precision:     80.3%%\n",
      "    Recall:        85.0%%\n",
      "    F-Measure:     82.6%%\n",
      "0.8257172375427164\n",
      "CPU times: user 21.1 s, sys: 263 ms, total: 21.3 s\n",
      "Wall time: 22.1 s\n"
     ]
    }
   ],
   "source": [
    "%%time\n",
    "sciword_chunker_01 = Chunker(dev_train, tagger=ScikitWordTagger,\n",
    "                        clf=BernoulliNB(alpha=0.5), features=npchunk_features_1)\n",
    "sciword_score_01 = sciword_chunker_01.evaluate(dev_test)\n",
    "print(\"feature 1: \\n\", sciword_score_01)\n",
    "print(sciword_score_01.f_measure())\n",
    "\n",
    "\n",
    "sciword_chunker_001 = Chunker(dev_train, tagger=ScikitWordTagger,\n",
    "                        clf=LogisticRegression(), features=npchunk_features_1)\n",
    "sciword_score_001 = sciword_chunker_001.evaluate(dev_test)\n",
    "print(\"feature 1: \\n\", sciword_score_001)\n",
    "print(sciword_score_001.f_measure())"
   ]
  },
  {
   "cell_type": "markdown",
   "metadata": {},
   "source": [
    "### Exercise 5.1"
   ]
  },
  {
   "cell_type": "code",
   "execution_count": 24,
   "metadata": {},
   "outputs": [
    {
     "name": "stdout",
     "output_type": "stream",
     "text": [
      "feature 000: \n",
      " ChunkParse score:\n",
      "    IOB Accuracy:  93.1%%\n",
      "    Precision:     81.2%%\n",
      "    Recall:        84.9%%\n",
      "    F-Measure:     83.0%%\n",
      "0.8301494684677485\n",
      "CPU times: user 8.89 s, sys: 155 ms, total: 9.05 s\n",
      "Wall time: 9.49 s\n"
     ]
    }
   ],
   "source": [
    "%%time\n",
    "sciword_chunker_000 = Chunker(dev_train, tagger=ScikitWordTagger,\n",
    "                        clf=LogisticRegression(), features=npchunk_features_00)\n",
    "sciword_score_000 = sciword_chunker_000.evaluate(dev_test)\n",
    "print(\"feature 000: \\n\", sciword_score_000)\n",
    "print(sciword_score_000.f_measure())"
   ]
  },
  {
   "cell_type": "code",
   "execution_count": 25,
   "metadata": {},
   "outputs": [
    {
     "name": "stdout",
     "output_type": "stream",
     "text": [
      "feature 001: \n",
      " ChunkParse score:\n",
      "    IOB Accuracy:  93.6%%\n",
      "    Precision:     84.3%%\n",
      "    Recall:        85.7%%\n",
      "    F-Measure:     85.0%%\n",
      "0.8498905198280755\n",
      "CPU times: user 9.97 s, sys: 169 ms, total: 10.1 s\n",
      "Wall time: 10.6 s\n"
     ]
    }
   ],
   "source": [
    "%%time\n",
    "sciword_chunker_001 = Chunker(dev_train, tagger=ScikitWordTagger,\n",
    "                        clf=LogisticRegression(), features=npchunk_features_01)\n",
    "sciword_score_001 = sciword_chunker_001.evaluate(dev_test)\n",
    "print(\"feature 001: \\n\", sciword_score_001)\n",
    "print(sciword_score_001.f_measure())"
   ]
  },
  {
   "cell_type": "code",
   "execution_count": 26,
   "metadata": {},
   "outputs": [
    {
     "name": "stdout",
     "output_type": "stream",
     "text": [
      "feature 002: \n",
      " ChunkParse score:\n",
      "    IOB Accuracy:  94.9%%\n",
      "    Precision:     87.0%%\n",
      "    Recall:        89.3%%\n",
      "    F-Measure:     88.1%%\n",
      "0.8810522918011622\n",
      "CPU times: user 15.7 s, sys: 761 ms, total: 16.5 s\n",
      "Wall time: 13.2 s\n"
     ]
    }
   ],
   "source": [
    "%%time\n",
    "sciword_chunker_002 = Chunker(dev_train, tagger=ScikitWordTagger,\n",
    "                        clf=LogisticRegression(), features=npchunk_features_02)\n",
    "sciword_score_002 = sciword_chunker_002.evaluate(dev_test)\n",
    "print(\"feature 002: \\n\", sciword_score_002)\n",
    "print(sciword_score_002.f_measure())"
   ]
  },
  {
   "cell_type": "code",
   "execution_count": 27,
   "metadata": {},
   "outputs": [
    {
     "name": "stdout",
     "output_type": "stream",
     "text": [
      "feature 003: \n",
      " ChunkParse score:\n",
      "    IOB Accuracy:  96.6%%\n",
      "    Precision:     91.5%%\n",
      "    Recall:        92.2%%\n",
      "    F-Measure:     91.8%%\n",
      "0.9183773216031281\n",
      "CPU times: user 24.9 s, sys: 1.34 s, total: 26.3 s\n",
      "Wall time: 19.8 s\n"
     ]
    }
   ],
   "source": [
    "%%time\n",
    "sciword_chunker_003 = Chunker(dev_train, tagger=ScikitWordTagger,\n",
    "                        clf=LogisticRegression(), features=npchunk_features_03)\n",
    "sciword_score_003 = sciword_chunker_003.evaluate(dev_test)\n",
    "print(\"feature 003: \\n\", sciword_score_003)\n",
    "print(sciword_score_003.f_measure())"
   ]
  },
  {
   "cell_type": "markdown",
   "metadata": {},
   "source": [
    "### Exercise 5.2"
   ]
  },
  {
   "cell_type": "code",
   "execution_count": 28,
   "metadata": {},
   "outputs": [],
   "source": [
    "def get_acc_string(a):\n",
    "    return str(round(a.accuracy(),3))\n",
    "def get_fsc_string(a):\n",
    "    return str(round(a.f_measure(), 3))"
   ]
  },
  {
   "cell_type": "code",
   "execution_count": 29,
   "metadata": {},
   "outputs": [],
   "source": [
    "# Call get_cell_string for all the scores we need and put it in a dictionary\n",
    "data_dict_acc = {\n",
    "    \"NLTK w/NB\": [get_acc_string(score_0), get_acc_string(score_1),\n",
    "                  get_acc_string(score_2), get_acc_string(score_3)],\n",
    "    \n",
    "    \"NLTK w/NB + history\": [get_acc_string(score_00), get_acc_string(score_01), \n",
    "                            get_acc_string(score_02), get_acc_string(score_03)],\n",
    "    \n",
    "    \"LogReg\": [get_acc_string(sci_score_00), get_acc_string(sci_score_01), \n",
    "               get_acc_string(sci_score_02), get_acc_string(sci_score_03)],\n",
    "    \n",
    "    \"LogReg + history\": [get_acc_string(sciword_score_000), get_acc_string(sciword_score_001), \n",
    "                         get_acc_string(sciword_score_002), get_acc_string(sciword_score_003)],\n",
    "}\n",
    "data_dict_Fsc = {\n",
    "    \"NLTK w/NB\": [get_fsc_string(score_0), get_fsc_string(score_1),\n",
    "                  get_fsc_string(score_2), get_fsc_string(score_3)],\n",
    "    \n",
    "    \"NLTK w/NB + history\": [get_fsc_string(score_00), get_fsc_string(score_01), \n",
    "                            get_fsc_string(score_02), get_fsc_string(score_03)],\n",
    "    \n",
    "    \"LogReg\": [get_fsc_string(sci_score_00), get_fsc_string(sci_score_01), \n",
    "               get_fsc_string(sci_score_02), get_fsc_string(sci_score_03)],\n",
    "    \n",
    "    \"LogReg + history\": [get_fsc_string(sciword_score_000), get_fsc_string(sciword_score_001), \n",
    "                         get_fsc_string(sciword_score_002), get_fsc_string(sciword_score_003)],\n",
    "}"
   ]
  },
  {
   "cell_type": "code",
   "execution_count": 30,
   "metadata": {},
   "outputs": [],
   "source": [
    "import pandas as pd"
   ]
  },
  {
   "cell_type": "code",
   "execution_count": 31,
   "metadata": {},
   "outputs": [
    {
     "name": "stdout",
     "output_type": "stream",
     "text": [
      "Accuracies\n"
     ]
    },
    {
     "data": {
      "text/html": [
       "<div>\n",
       "<style scoped>\n",
       "    .dataframe tbody tr th:only-of-type {\n",
       "        vertical-align: middle;\n",
       "    }\n",
       "\n",
       "    .dataframe tbody tr th {\n",
       "        vertical-align: top;\n",
       "    }\n",
       "\n",
       "    .dataframe thead th {\n",
       "        text-align: right;\n",
       "    }\n",
       "</style>\n",
       "<table border=\"1\" class=\"dataframe\">\n",
       "  <thead>\n",
       "    <tr style=\"text-align: right;\">\n",
       "      <th></th>\n",
       "      <th>NLTK w/NB</th>\n",
       "      <th>NLTK w/NB + history</th>\n",
       "      <th>LogReg</th>\n",
       "      <th>LogReg + history</th>\n",
       "    </tr>\n",
       "  </thead>\n",
       "  <tbody>\n",
       "    <tr>\n",
       "      <th>0</th>\n",
       "      <td>0.927</td>\n",
       "      <td>0.93</td>\n",
       "      <td>0.927</td>\n",
       "      <td>0.931</td>\n",
       "    </tr>\n",
       "    <tr>\n",
       "      <th>1</th>\n",
       "      <td>0.933</td>\n",
       "      <td>0.926</td>\n",
       "      <td>0.932</td>\n",
       "      <td>0.936</td>\n",
       "    </tr>\n",
       "    <tr>\n",
       "      <th>2</th>\n",
       "      <td>0.941</td>\n",
       "      <td>0.943</td>\n",
       "      <td>0.944</td>\n",
       "      <td>0.949</td>\n",
       "    </tr>\n",
       "    <tr>\n",
       "      <th>3</th>\n",
       "      <td>0.947</td>\n",
       "      <td>0.948</td>\n",
       "      <td>0.932</td>\n",
       "      <td>0.966</td>\n",
       "    </tr>\n",
       "  </tbody>\n",
       "</table>\n",
       "</div>"
      ],
      "text/plain": [
       "  NLTK w/NB NLTK w/NB + history LogReg LogReg + history\n",
       "0     0.927                0.93  0.927            0.931\n",
       "1     0.933               0.926  0.932            0.936\n",
       "2     0.941               0.943  0.944            0.949\n",
       "3     0.947               0.948  0.932            0.966"
      ]
     },
     "execution_count": 31,
     "metadata": {},
     "output_type": "execute_result"
    }
   ],
   "source": [
    "df_acc = pd.DataFrame(data_dict_acc)\n",
    "print(\"Accuracies\")\n",
    "df_acc"
   ]
  },
  {
   "cell_type": "code",
   "execution_count": 32,
   "metadata": {},
   "outputs": [
    {
     "name": "stdout",
     "output_type": "stream",
     "text": [
      "F-scores\n"
     ]
    },
    {
     "data": {
      "text/html": [
       "<div>\n",
       "<style scoped>\n",
       "    .dataframe tbody tr th:only-of-type {\n",
       "        vertical-align: middle;\n",
       "    }\n",
       "\n",
       "    .dataframe tbody tr th {\n",
       "        vertical-align: top;\n",
       "    }\n",
       "\n",
       "    .dataframe thead th {\n",
       "        text-align: right;\n",
       "    }\n",
       "</style>\n",
       "<table border=\"1\" class=\"dataframe\">\n",
       "  <thead>\n",
       "    <tr style=\"text-align: right;\">\n",
       "      <th></th>\n",
       "      <th>NLTK w/NB</th>\n",
       "      <th>NLTK w/NB + history</th>\n",
       "      <th>LogReg</th>\n",
       "      <th>LogReg + history</th>\n",
       "    </tr>\n",
       "  </thead>\n",
       "  <tbody>\n",
       "    <tr>\n",
       "      <th>0</th>\n",
       "      <td>0.819</td>\n",
       "      <td>0.829</td>\n",
       "      <td>0.819</td>\n",
       "      <td>0.83</td>\n",
       "    </tr>\n",
       "    <tr>\n",
       "      <th>1</th>\n",
       "      <td>0.836</td>\n",
       "      <td>0.812</td>\n",
       "      <td>0.826</td>\n",
       "      <td>0.85</td>\n",
       "    </tr>\n",
       "    <tr>\n",
       "      <th>2</th>\n",
       "      <td>0.856</td>\n",
       "      <td>0.857</td>\n",
       "      <td>0.853</td>\n",
       "      <td>0.881</td>\n",
       "    </tr>\n",
       "    <tr>\n",
       "      <th>3</th>\n",
       "      <td>0.867</td>\n",
       "      <td>0.868</td>\n",
       "      <td>0.826</td>\n",
       "      <td>0.918</td>\n",
       "    </tr>\n",
       "  </tbody>\n",
       "</table>\n",
       "</div>"
      ],
      "text/plain": [
       "  NLTK w/NB NLTK w/NB + history LogReg LogReg + history\n",
       "0     0.819               0.829  0.819             0.83\n",
       "1     0.836               0.812  0.826             0.85\n",
       "2     0.856               0.857  0.853            0.881\n",
       "3     0.867               0.868  0.826            0.918"
      ]
     },
     "execution_count": 32,
     "metadata": {},
     "output_type": "execute_result"
    }
   ],
   "source": [
    "df_fsc = pd.DataFrame(data_dict_Fsc)\n",
    "print(\"F-scores\")\n",
    "df_fsc"
   ]
  },
  {
   "cell_type": "markdown",
   "metadata": {},
   "source": [
    "### Exercise 6"
   ]
  },
  {
   "cell_type": "markdown",
   "metadata": {},
   "source": [
    "#### What is the effect of adding more features?\n",
    "- Adding more features with NLTK without history yields better results for both accuracy and F-score.\n",
    "\n",
    "#### What happens when we add a feature for the previous chunk-tag to the earlier feature extractors?\n",
    "- After adding history, the accuracy and F-score is increased a little.\n",
    "\n",
    "#### Does adding the previous chunk-tag always improve the results?\n",
    "- With NLTK feature 2, it decreased a little. \n",
    "\n",
    "#### Do we get the same variation between the different feature extractors with and without the history?\n",
    "- It is marginally better for all results, except going from feature 0 to 1. It seems that the difference between feature extractor 1 and 2 is higher for NLTK + history, otherwise, it is within margin.\n",
    "\n",
    "#### Do we see the same variation between the feature extractors with LR as with NB?\n",
    "- We see almost the same variation and increase of accuracy with both LR and NB\n",
    "\n",
    "#### Does LR perform better than NB with all the extractors?\n",
    "- Yes, LR performs better than NB with all the extractors. It is getting the highest accuracy and F-measure.\n",
    "\n",
    "#### What happens when you add history and use the LR classifier?\n",
    "- With history and the LR classifier, the scores get higher and higher with every feature. The difference from feature extractor 2 and 3 is 1.7%, going from 94.9% to 96.6%!\n",
    "\n",
    "\n",
    "I think that if you would make a graph for the increase/decrease of the results, it would have been a lot easier to see the differences between NLTK and LogReg."
   ]
  },
  {
   "cell_type": "markdown",
   "metadata": {},
   "source": [
    "### Exercise 7"
   ]
  },
  {
   "cell_type": "code",
   "execution_count": 33,
   "metadata": {},
   "outputs": [
    {
     "name": "stdout",
     "output_type": "stream",
     "text": [
      "Score: ChunkParse score:\n",
      "    IOB Accuracy:  95.6%%\n",
      "    Precision:     87.4%%\n",
      "    Recall:        90.1%%\n",
      "    F-Measure:     88.7%%\n"
     ]
    }
   ],
   "source": [
    "from nltk import word_tokenize\n",
    "# This replaces the old tag with the one from nltk.pos_tag\n",
    "class NewChunker7(nltk.ChunkParserI):\n",
    "    def __init__(self, train_sents,\n",
    "        tagger=ConsecutiveTagger, **kwargs):\n",
    "        tagged_sents = []\n",
    "\n",
    "        for sent in train_sents:\n",
    "            for (w,t,c) in nltk.chunk.tree2conlltags(sent):\n",
    "                k = nltk.pos_tag(word_tokenize(w))[0][1]\n",
    "                tagged_s.append(((w,k),c))\n",
    "        self.tagger = tagger(tagged_sents, **kwargs)\n",
    "        \n",
    "    def parse(self, sentence):\n",
    "        tagged_sents = self.tagger.tag(sentence)\n",
    "        conlltags = [(w,t,c) for ((w,t),c) in tagged_sents]\n",
    "        return nltk.chunk.conlltags2tree(conlltags)\n",
    "\n",
    "    \n",
    "sm = Chunker(dev_test, features=npchunk_features_03)\n",
    "the_score = sm.evaluate(dev_test)\n",
    "print(\"Score:\", the_score)"
   ]
  },
  {
   "cell_type": "markdown",
   "metadata": {},
   "source": [
    "I thought it was a little strange to evaluate it on the same set, but with different POS-tags, So i'm guessing I did something wrong.\n",
    "\n",
    "It looks like the gold pos-tagged set got it a bit better than nltk.pos_tag (96.6% acc vs 95.6% accuracy and 91.8% vs 88.7% F-measure).\n",
    "\n"
   ]
  },
  {
   "cell_type": "markdown",
   "metadata": {},
   "source": [
    "### Exercise 8"
   ]
  },
  {
   "cell_type": "code",
   "execution_count": 34,
   "metadata": {},
   "outputs": [],
   "source": [
    "# 128,64,32,16,8,4,2,1\n",
    "from collections import defaultdict\n",
    "partition_sizes = [128,64,32,16,8,4,2,1]\n",
    "\n",
    "accuracy = defaultdict(list)\n",
    "fmeasure = defaultdict(list)\n",
    "\n",
    "for s in partition_sizes:\n",
    "    #train_size = len(dev_train) //s\n",
    "    tmp_train  = dev_train[:len(dev_train)//s]\n",
    "\n",
    "    chunker_2 = Chunker(tmp_train, features=npchunk_features_2)\n",
    "    chunker_3 = Chunker(tmp_train, features=npchunk_features_3)\n",
    "    score_2   = chunker_2.evaluate(dev_test)\n",
    "    score_3   = chunker_3.evaluate(dev_test)\n",
    "\n",
    "    accuracy['LogReg_feature_2'].append(score_2.accuracy())\n",
    "    accuracy['LogReg_feature_3'].append(score_3.accuracy())\n",
    "    \n",
    "    fmeasure['LogReg_feature_2'].append(score_2.f_measure())\n",
    "    fmeasure['LogReg_feature_3'].append(score_3.f_measure())"
   ]
  },
  {
   "cell_type": "code",
   "execution_count": 40,
   "metadata": {},
   "outputs": [
    {
     "data": {
      "text/plain": [
       "<matplotlib.axes._subplots.AxesSubplot at 0x12825f3d0>"
      ]
     },
     "execution_count": 40,
     "metadata": {},
     "output_type": "execute_result"
    },
    {
     "data": {
      "image/png": "[encoded data removed]",
      "text/plain": [
       "<Figure size 432x288 with 1 Axes>"
      ]
     },
     "metadata": {
      "needs_background": "light"
     },
     "output_type": "display_data"
    },
    {
     "data": {
      "image/png": "[encoded data removed]",
      "text/plain": [
       "<Figure size 432x288 with 1 Axes>"
      ]
     },
     "metadata": {
      "needs_background": "light"
     },
     "output_type": "display_data"
    }
   ],
   "source": [
    "acc  = pd.DataFrame(accuracy)\n",
    "fmea = pd.DataFrame(fmeasure)\n",
    "plot_acc  = acc.plot()\n",
    "plot_fmea = fmea.plot()\n",
    "\n",
    "\n",
    "plot_acc.set_ylabel('Accuracy')\n",
    "plot_fmea.set_ylabel('F-measure')\n",
    "plot_acc.set_xlabel('Partition')\n",
    "plot_fmea.set_xlabel('Partition')\n",
    "\n",
    "plot_acc\n",
    "plot_fmea"
   ]
  },
  {
   "cell_type": "markdown",
   "metadata": {},
   "source": [
    "### Exercise 9"
   ]
  },
  {
   "cell_type": "code",
   "execution_count": 36,
   "metadata": {},
   "outputs": [
    {
     "name": "stdout",
     "output_type": "stream",
     "text": [
      "[0.925 0.954]\n"
     ]
    }
   ],
   "source": [
    "sample_size = len(dev_test)\n",
    "from scipy import stats\n",
    "\n",
    "bi = stats.binom.ppf([0.025, 0.975], 1000, 0.94)/1000\n",
    "print(bi)"
   ]
  },
  {
   "cell_type": "code",
   "execution_count": 37,
   "metadata": {},
   "outputs": [
    {
     "data": {
      "text/plain": [
       "[<matplotlib.lines.Line2D at 0x120d4ae10>]"
      ]
     },
     "execution_count": 37,
     "metadata": {},
     "output_type": "execute_result"
    },
    {
     "data": {
      "image/png": "[encoded data removed]",
      "text/plain": [
       "<Figure size 432x288 with 1 Axes>"
      ]
     },
     "metadata": {
      "needs_background": "light"
     },
     "output_type": "display_data"
    }
   ],
   "source": [
    "import matplotlib.pyplot as plt\n",
    "x=np.arange(stats.binom.ppf(0.01, 1000, 0.94),\n",
    "               stats.binom.ppf(0.99, 1000, 0.94))\n",
    "plt.plot(x, stats.binom.pmf(x, 1000, 0.94))"
   ]
  },
  {
   "cell_type": "markdown",
   "metadata": {},
   "source": [
    "We can estimate the IOB accuracy for this chunker of the total population with a confidence interval. The interval gives us an estimation for where the true accurcy lies, in our case, with a 95% confidence"
   ]
  },
  {
   "cell_type": "markdown",
   "metadata": {},
   "source": [
    "### Exercise 10"
   ]
  },
  {
   "cell_type": "code",
   "execution_count": 38,
   "metadata": {},
   "outputs": [
    {
     "name": "stderr",
     "output_type": "stream",
     "text": [
      "/usr/local/lib/python3.7/site-packages/sklearn/linear_model/logistic.py:432: FutureWarning: Default solver will be changed to 'lbfgs' in 0.22. Specify a solver to silence this warning.\n",
      "  FutureWarning)\n",
      "/usr/local/lib/python3.7/site-packages/sklearn/linear_model/logistic.py:469: FutureWarning: Default multi_class will be changed to 'auto' in 0.22. Specify the multi_class option to silence this warning.\n",
      "  \"this warning.\", FutureWarning)\n"
     ]
    },
    {
     "name": "stdout",
     "output_type": "stream",
     "text": [
      "LogReg + history npchunk_features_03: \n",
      " ChunkParse score:\n",
      "    IOB Accuracy:  96.5%%\n",
      "    Precision:     92.0%%\n",
      "    Recall:        92.0%%\n",
      "    F-Measure:     92.0%%\n",
      "0.9201046488227007\n"
     ]
    }
   ],
   "source": [
    "test_set = conll2000.chunked_sents('test.txt', chunk_types=['NP'])\n",
    "\n",
    "best_chunker = Chunker(dev_train, tagger=ScikitWordTagger,\n",
    "                        clf=LogisticRegression(), features=npchunk_features_03)\n",
    "best_score = best_chunker.evaluate(test_set)\n",
    "\n",
    "print(\"LogReg + history npchunk_features_03: \\n\", best_score)\n",
    "print(best_score.f_measure())"
   ]
  },
  {
   "cell_type": "code",
   "execution_count": 39,
   "metadata": {},
   "outputs": [
    {
     "name": "stdout",
     "output_type": "stream",
     "text": [
      "LogReg + history npchunk_features_03 on whole dev-set: \n",
      " ChunkParse score:\n",
      "    IOB Accuracy:  96.6%%\n",
      "    Precision:     92.2%%\n",
      "    Recall:        92.2%%\n",
      "    F-Measure:     92.2%%\n",
      "0.9224328784768345\n"
     ]
    }
   ],
   "source": [
    "\n",
    "best_chunker_2 = Chunker(dev_set, tagger=ScikitWordTagger,\n",
    "                        clf=LogisticRegression(), features=npchunk_features_03)\n",
    "best_score_2 = best_chunker_2.evaluate(test_set)\n",
    "\n",
    "print(\"LogReg + history npchunk_features_03 on whole dev-set: \\n\", best_score_2)\n",
    "print(best_score_2.f_measure())\n"
   ]
  },
  {
   "cell_type": "markdown",
   "metadata": {},
   "source": [
    "#### Do you see any changes by including what was earlier dev_test in your training data?\n",
    "- We can see that including a bigger (~12.6%) test-set gave the chunker about 0.1-0.2% better accuracy and f-score"
   ]
  },
  {
   "cell_type": "markdown",
   "metadata": {},
   "source": [
    "### Exercise 11"
   ]
  },
  {
   "cell_type": "markdown",
   "metadata": {},
   "source": [
    "| Manual evaluation | True positive | False Positive | False Negative |\n",
    "| --- | --- | --- | --- |\n",
    "| different[3] | 14 | 1 | 0 |\n",
    "| different[100] | 20 |  | 0 |\n",
    "| different[550] | 28 | 1 | 0 |\n",
    "| different[590] | 13 | 0 | 0 |\n",
    "| different[600] | 24 | 0 | 1 |\n",
    "| total | 99 | 2 | 1 |"
   ]
  },
  {
   "cell_type": "markdown",
   "metadata": {},
   "source": [
    "\\begin{equation*}\n",
    "Recall : 99/100 = 0,99\n",
    "\\end{equation*}\n",
    "\n",
    "\\begin{equation*}\n",
    "Precision : 99/101 = 0,9801980198 ≈ 0.98\n",
    "\\end{equation*}\n",
    "\n",
    "\n",
    "\n",
    "\n",
    "\\begin{equation*}\n",
    "F-score = 2 *  \\frac{Recall * Precision}{Recall + Precision} = 2 * \\frac{0,99 * 0,9801980198}{0,99 + 0,9801980198} = 0.98507462686 ≈ 0.985\n",
    "\\end{equation*}"
   ]
  },
  {
   "cell_type": "code",
   "execution_count": null,
   "metadata": {},
   "outputs": [],
   "source": []
  }
 ],
 "metadata": {
  "kernelspec": {
   "display_name": "Python 3",
   "language": "python",
   "name": "python3"
  },
  "language_info": {
   "codemirror_mode": {
    "name": "ipython",
    "version": 3
   },
   "file_extension": ".py",
   "mimetype": "text/x-python",
   "name": "python",
   "nbconvert_exporter": "python",
   "pygments_lexer": "ipython3",
   "version": "3.7.4"
  }
 },
 "nbformat": 4,
 "nbformat_minor": 2
}
