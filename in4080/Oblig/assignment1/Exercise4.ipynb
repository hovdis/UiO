{
 "cells": [
  {
   "cell_type": "markdown",
   "metadata": {},
   "source": [
    "### Exercise 4 a"
   ]
  },
  {
   "cell_type": "code",
   "execution_count": 1,
   "metadata": {},
   "outputs": [],
   "source": [
    "import random\n",
    "import numpy as np\n",
    "import pandas as pd"
   ]
  },
  {
   "cell_type": "code",
   "execution_count": 2,
   "metadata": {},
   "outputs": [],
   "source": [
    "def bernoulli(p):\n",
    " if random.random() < p:\n",
    "     return 1\n",
    " else:\n",
    "     return 0"
   ]
  },
  {
   "cell_type": "code",
   "execution_count": 3,
   "metadata": {},
   "outputs": [
    {
     "name": "stdout",
     "output_type": "stream",
     "text": [
      "0\n",
      "1\n",
      "0\n",
      "0\n",
      "1\n",
      "0\n",
      "1\n",
      "1\n",
      "0\n",
      "0\n"
     ]
    }
   ],
   "source": [
    "for i in range(1,11):\n",
    "    print(bernoulli(0.5))"
   ]
  },
  {
   "cell_type": "markdown",
   "metadata": {},
   "source": [
    "## TODO: find mean of ten runs"
   ]
  },
  {
   "cell_type": "markdown",
   "metadata": {},
   "source": [
    "### Exercise 4 b"
   ]
  },
  {
   "cell_type": "code",
   "execution_count": 4,
   "metadata": {},
   "outputs": [],
   "source": [
    "def bin_exper(n, p):\n",
    "    i = 0\n",
    "    for x in range(n):\n",
    "        if bernoulli(p) == 1:\n",
    "            i = i + 1\n",
    "    return i"
   ]
  },
  {
   "cell_type": "code",
   "execution_count": 5,
   "metadata": {},
   "outputs": [
    {
     "data": {
      "text/plain": [
       "8"
      ]
     },
     "execution_count": 5,
     "metadata": {},
     "output_type": "execute_result"
    }
   ],
   "source": [
    "bin_exper(10, 0.5)"
   ]
  },
  {
   "cell_type": "code",
   "execution_count": 6,
   "metadata": {},
   "outputs": [
    {
     "name": "stdout",
     "output_type": "stream",
     "text": [
      "out of a total of 20*10 runs, the total successes were: 100\n"
     ]
    }
   ],
   "source": [
    "tot = 0\n",
    "for x in range(20):\n",
    "    tot = tot + bin_exper(10, 0.5)\n",
    "print(\"out of a total of 20*10 runs, the total successes were:\",tot)"
   ]
  },
  {
   "cell_type": "markdown",
   "metadata": {},
   "source": [
    "### Exercise 4 c"
   ]
  },
  {
   "cell_type": "code",
   "execution_count": 7,
   "metadata": {},
   "outputs": [],
   "source": [
    "def bin_freqs(m, n, p):\n",
    "    totSuc = np.zeros(m, dtype=int)\n",
    "    for i in range(m):\n",
    "        totSuc[i] = bin_exper(n, p)\n",
    "    \n",
    "    relFreq = np.zeros(n, dtype=float)\n",
    "    for i in range(n):\n",
    "        relFreq[i] = list(totSuc).count(i)/m\n",
    "    \n",
    "    return relFreq\n",
    "    \n",
    "#    tot = 0\n",
    "#    for x in range(m):\n",
    "#        tot = tot + bin_exper(n, p)\n",
    "#    return tot/(m*n)"
   ]
  },
  {
   "cell_type": "code",
   "execution_count": 8,
   "metadata": {},
   "outputs": [
    {
     "data": {
      "text/plain": [
       "array([0.  , 0.  , 0.  , 0.05, 0.35, 0.2 , 0.15, 0.2 , 0.05, 0.  ])"
      ]
     },
     "execution_count": 8,
     "metadata": {},
     "output_type": "execute_result"
    }
   ],
   "source": [
    "bin_freqs(20, 10, 0.5)"
   ]
  },
  {
   "cell_type": "markdown",
   "metadata": {},
   "source": [
    "### Exercise 4 d\n",
    "Fix p=0.5 and n=8 and see what happens when m varies. Run bin_freqs(m, n, p) for m= 4, 10,\n",
    "100, 1000, 10000. Report the results in a (69) table where you also include the values for\n",
    "the *theoretical distribution* binom_pmf(m, n, p) from exercise (1)"
   ]
  },
  {
   "cell_type": "code",
   "execution_count": 9,
   "metadata": {},
   "outputs": [],
   "source": [
    "# This is taken from Exercise 3. \n",
    "def factor(n):\n",
    "    if n>0:\n",
    "        return n*factor(n-1) if n>1 else 1\n",
    "    else:\n",
    "        return 1\n",
    "def binom(m, n):\n",
    "    if n >= m and m >= 0:\n",
    "        return factor(n)/(factor(m)*(factor(n-m)))\n",
    "def binom_pmf(k, n, p):\n",
    "    return binom(k, n)*p**k*(1-p)**(n-k) if n >= k and k >= 0 and 1 >= p and p >= 0 else 0"
   ]
  },
  {
   "cell_type": "code",
   "execution_count": 10,
   "metadata": {},
   "outputs": [
    {
     "data": {
      "text/html": [
       "<div>\n",
       "<style scoped>\n",
       "    .dataframe tbody tr th:only-of-type {\n",
       "        vertical-align: middle;\n",
       "    }\n",
       "\n",
       "    .dataframe tbody tr th {\n",
       "        vertical-align: top;\n",
       "    }\n",
       "\n",
       "    .dataframe thead th {\n",
       "        text-align: right;\n",
       "    }\n",
       "</style>\n",
       "<table border=\"1\" class=\"dataframe\">\n",
       "  <thead>\n",
       "    <tr style=\"text-align: right;\">\n",
       "      <th></th>\n",
       "      <th>0</th>\n",
       "      <th>1</th>\n",
       "      <th>2</th>\n",
       "      <th>3</th>\n",
       "      <th>4</th>\n",
       "      <th>5</th>\n",
       "      <th>6</th>\n",
       "      <th>7</th>\n",
       "      <th>8</th>\n",
       "    </tr>\n",
       "  </thead>\n",
       "  <tbody>\n",
       "    <tr>\n",
       "      <th>0</th>\n",
       "      <td>0.000000</td>\n",
       "      <td>0.000000</td>\n",
       "      <td>0.250000</td>\n",
       "      <td>0.000000</td>\n",
       "      <td>0.750000</td>\n",
       "      <td>0.000000</td>\n",
       "      <td>0.000000</td>\n",
       "      <td>0.000000</td>\n",
       "      <td>0.000000</td>\n",
       "    </tr>\n",
       "    <tr>\n",
       "      <th>1</th>\n",
       "      <td>0.000000</td>\n",
       "      <td>0.000000</td>\n",
       "      <td>0.400000</td>\n",
       "      <td>0.100000</td>\n",
       "      <td>0.000000</td>\n",
       "      <td>0.100000</td>\n",
       "      <td>0.300000</td>\n",
       "      <td>0.100000</td>\n",
       "      <td>0.000000</td>\n",
       "    </tr>\n",
       "    <tr>\n",
       "      <th>2</th>\n",
       "      <td>0.010000</td>\n",
       "      <td>0.020000</td>\n",
       "      <td>0.040000</td>\n",
       "      <td>0.150000</td>\n",
       "      <td>0.190000</td>\n",
       "      <td>0.310000</td>\n",
       "      <td>0.160000</td>\n",
       "      <td>0.100000</td>\n",
       "      <td>0.020000</td>\n",
       "    </tr>\n",
       "    <tr>\n",
       "      <th>3</th>\n",
       "      <td>0.000000</td>\n",
       "      <td>0.019000</td>\n",
       "      <td>0.072000</td>\n",
       "      <td>0.159000</td>\n",
       "      <td>0.234000</td>\n",
       "      <td>0.247000</td>\n",
       "      <td>0.161000</td>\n",
       "      <td>0.082000</td>\n",
       "      <td>0.024000</td>\n",
       "    </tr>\n",
       "    <tr>\n",
       "      <th>4</th>\n",
       "      <td>0.002400</td>\n",
       "      <td>0.015300</td>\n",
       "      <td>0.069700</td>\n",
       "      <td>0.163600</td>\n",
       "      <td>0.242800</td>\n",
       "      <td>0.249600</td>\n",
       "      <td>0.169800</td>\n",
       "      <td>0.069300</td>\n",
       "      <td>0.015700</td>\n",
       "    </tr>\n",
       "    <tr>\n",
       "      <th>5</th>\n",
       "      <td>0.001953</td>\n",
       "      <td>0.017578</td>\n",
       "      <td>0.070312</td>\n",
       "      <td>0.164062</td>\n",
       "      <td>0.246094</td>\n",
       "      <td>0.246094</td>\n",
       "      <td>0.164062</td>\n",
       "      <td>0.070312</td>\n",
       "      <td>0.017578</td>\n",
       "    </tr>\n",
       "  </tbody>\n",
       "</table>\n",
       "</div>"
      ],
      "text/plain": [
       "          0         1         2         3         4         5         6  \\\n",
       "0  0.000000  0.000000  0.250000  0.000000  0.750000  0.000000  0.000000   \n",
       "1  0.000000  0.000000  0.400000  0.100000  0.000000  0.100000  0.300000   \n",
       "2  0.010000  0.020000  0.040000  0.150000  0.190000  0.310000  0.160000   \n",
       "3  0.000000  0.019000  0.072000  0.159000  0.234000  0.247000  0.161000   \n",
       "4  0.002400  0.015300  0.069700  0.163600  0.242800  0.249600  0.169800   \n",
       "5  0.001953  0.017578  0.070312  0.164062  0.246094  0.246094  0.164062   \n",
       "\n",
       "          7         8  \n",
       "0  0.000000  0.000000  \n",
       "1  0.100000  0.000000  \n",
       "2  0.100000  0.020000  \n",
       "3  0.082000  0.024000  \n",
       "4  0.069300  0.015700  \n",
       "5  0.070312  0.017578  "
      ]
     },
     "execution_count": 10,
     "metadata": {},
     "output_type": "execute_result"
    }
   ],
   "source": [
    "ml = [4,10,100,1000,10000]\n",
    "n = 9\n",
    "p = 0.5\n",
    "\n",
    "data = []\n",
    "for m in ml:\n",
    "    data.append(bin_freqs(m, n, p))\n",
    "\n",
    "bin_pmf = []\n",
    "for i in range(n):\n",
    "    bin_pmf.append(binom_pmf(i, n, p))\n",
    "\n",
    "table = pd.DataFrame(data)\n",
    "table.append({i:bin_pmf[i] for i in range(len(bin_pmf))}, ignore_index = True)\n",
    "\n",
    "#the rows index indicate the index of the list [4,10,100,1000,1000]\n",
    "#while the coulns is the corrseponding frequency of the successes at k = index+1\n",
    "#the last row is the theoretical distribution from exercise 3.\n"
   ]
  }
 ],
 "metadata": {
  "kernelspec": {
   "display_name": "Python 3",
   "language": "python",
   "name": "python3"
  },
  "language_info": {
   "codemirror_mode": {
    "name": "ipython",
    "version": 3
   },
   "file_extension": ".py",
   "mimetype": "text/x-python",
   "name": "python",
   "nbconvert_exporter": "python",
   "pygments_lexer": "ipython3",
   "version": "3.7.3"
  }
 },
 "nbformat": 4,
 "nbformat_minor": 2
}
