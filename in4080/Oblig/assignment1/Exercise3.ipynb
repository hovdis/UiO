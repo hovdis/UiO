{
 "cells": [
  {
   "cell_type": "markdown",
   "metadata": {},
   "source": [
    "### Exercise 3 a"
   ]
  },
  {
   "cell_type": "code",
   "execution_count": 1,
   "metadata": {},
   "outputs": [],
   "source": [
    "def factor(n):\n",
    "    if n>0:\n",
    "        return n*factor(n-1) if n>1 else 1\n",
    "    else:\n",
    "        return 1"
   ]
  },
  {
   "cell_type": "code",
   "execution_count": 2,
   "metadata": {},
   "outputs": [
    {
     "data": {
      "text/plain": [
       "120"
      ]
     },
     "execution_count": 2,
     "metadata": {},
     "output_type": "execute_result"
    }
   ],
   "source": [
    "factor(5)"
   ]
  },
  {
   "cell_type": "markdown",
   "metadata": {},
   "source": [
    "### Exercise 3 b"
   ]
  },
  {
   "cell_type": "code",
   "execution_count": 3,
   "metadata": {},
   "outputs": [],
   "source": [
    "def binom(m, n):\n",
    "    if n >= m and m >= 0:\n",
    "        return factor(n)/(factor(m)*(factor(n-m)))"
   ]
  },
  {
   "cell_type": "code",
   "execution_count": 4,
   "metadata": {},
   "outputs": [
    {
     "data": {
      "text/plain": [
       "1.0"
      ]
     },
     "execution_count": 4,
     "metadata": {},
     "output_type": "execute_result"
    }
   ],
   "source": [
    "binom(3, 3)"
   ]
  },
  {
   "cell_type": "markdown",
   "metadata": {},
   "source": [
    "### Exercise 3 c"
   ]
  },
  {
   "cell_type": "code",
   "execution_count": 5,
   "metadata": {},
   "outputs": [],
   "source": [
    "def binom_pmf(k, n, p):\n",
    "    return binom(k, n)*p**k*(1-p)**(n-k) if n >= k and k >= 0 and 1 >= p and p >= 0 else 0"
   ]
  },
  {
   "cell_type": "code",
   "execution_count": 6,
   "metadata": {},
   "outputs": [
    {
     "data": {
      "text/plain": [
       "0.125"
      ]
     },
     "execution_count": 6,
     "metadata": {},
     "output_type": "execute_result"
    }
   ],
   "source": [
    "binom_pmf(3, 3, 0.5)"
   ]
  },
  {
   "cell_type": "markdown",
   "metadata": {},
   "source": [
    "### Exercise 3 d"
   ]
  },
  {
   "cell_type": "code",
   "execution_count": 7,
   "metadata": {},
   "outputs": [],
   "source": [
    "def binom_cdf(k, n, p):\n",
    "    tot = 0\n",
    "    for x in range(k+1):\n",
    "        tot += binom_pmf(x, n, p)\n",
    "    return tot"
   ]
  },
  {
   "cell_type": "code",
   "execution_count": 8,
   "metadata": {},
   "outputs": [
    {
     "data": {
      "text/plain": [
       "0.875"
      ]
     },
     "execution_count": 8,
     "metadata": {},
     "output_type": "execute_result"
    }
   ],
   "source": [
    "binom_cdf(2, 3, 0.5)"
   ]
  },
  {
   "cell_type": "markdown",
   "metadata": {},
   "source": [
    "### Exercise 3 e"
   ]
  },
  {
   "cell_type": "code",
   "execution_count": 9,
   "metadata": {},
   "outputs": [
    {
     "name": "stdout",
     "output_type": "stream",
     "text": [
      "pmf for: 0 -> 0.00390625\n",
      "pmf for: 1 -> 0.03125\n",
      "pmf for: 2 -> 0.109375\n",
      "pmf for: 3 -> 0.21875\n",
      "pmf for: 4 -> 0.2734375\n",
      "pmf for: 5 -> 0.21875\n",
      "pmf for: 6 -> 0.109375\n",
      "pmf for: 7 -> 0.03125\n",
      "pmf for: 8 -> 0.00390625\n",
      "-----------------------------\n",
      "cdf for: 0 -> 0.00390625\n",
      "cdf for: 1 -> 0.03515625\n",
      "cdf for: 2 -> 0.14453125\n",
      "cdf for: 3 -> 0.36328125\n",
      "cdf for: 4 -> 0.63671875\n",
      "cdf for: 5 -> 0.85546875\n",
      "cdf for: 6 -> 0.96484375\n",
      "cdf for: 7 -> 0.99609375\n",
      "cdf for: 8 -> 1.0\n"
     ]
    }
   ],
   "source": [
    "n = 8\n",
    "p = 0.5\n",
    "pmf = {}\n",
    "cdf = {}\n",
    "for k in range(0, 9):\n",
    "    pmf[k] = binom_pmf(k, n, p)\n",
    "    print(\"pmf for:\", k, \"->\", pmf[k])\n",
    "print(\"-----------------------------\")\n",
    "for k in range(0, 9):\n",
    "    cdf[k] = binom_cdf(k, n, p)\n",
    "    print(\"cdf for:\", k, \"->\", cdf[k])"
   ]
  },
  {
   "cell_type": "code",
   "execution_count": 10,
   "metadata": {},
   "outputs": [],
   "source": [
    "import numpy as np\n",
    "import matplotlib.pyplot as plt\n",
    "import pandas as pd"
   ]
  },
  {
   "cell_type": "code",
   "execution_count": 11,
   "metadata": {},
   "outputs": [
    {
     "data": {
      "text/html": [
       "<div>\n",
       "<style scoped>\n",
       "    .dataframe tbody tr th:only-of-type {\n",
       "        vertical-align: middle;\n",
       "    }\n",
       "\n",
       "    .dataframe tbody tr th {\n",
       "        vertical-align: top;\n",
       "    }\n",
       "\n",
       "    .dataframe thead th {\n",
       "        text-align: right;\n",
       "    }\n",
       "</style>\n",
       "<table border=\"1\" class=\"dataframe\">\n",
       "  <thead>\n",
       "    <tr style=\"text-align: right;\">\n",
       "      <th></th>\n",
       "      <th>pmf</th>\n",
       "      <th>cdf</th>\n",
       "    </tr>\n",
       "  </thead>\n",
       "  <tbody>\n",
       "    <tr>\n",
       "      <th>0</th>\n",
       "      <td>0.003906</td>\n",
       "      <td>0.003906</td>\n",
       "    </tr>\n",
       "    <tr>\n",
       "      <th>1</th>\n",
       "      <td>0.031250</td>\n",
       "      <td>0.035156</td>\n",
       "    </tr>\n",
       "    <tr>\n",
       "      <th>2</th>\n",
       "      <td>0.109375</td>\n",
       "      <td>0.144531</td>\n",
       "    </tr>\n",
       "    <tr>\n",
       "      <th>3</th>\n",
       "      <td>0.218750</td>\n",
       "      <td>0.363281</td>\n",
       "    </tr>\n",
       "    <tr>\n",
       "      <th>4</th>\n",
       "      <td>0.273438</td>\n",
       "      <td>0.636719</td>\n",
       "    </tr>\n",
       "    <tr>\n",
       "      <th>5</th>\n",
       "      <td>0.218750</td>\n",
       "      <td>0.855469</td>\n",
       "    </tr>\n",
       "    <tr>\n",
       "      <th>6</th>\n",
       "      <td>0.109375</td>\n",
       "      <td>0.964844</td>\n",
       "    </tr>\n",
       "    <tr>\n",
       "      <th>7</th>\n",
       "      <td>0.031250</td>\n",
       "      <td>0.996094</td>\n",
       "    </tr>\n",
       "    <tr>\n",
       "      <th>8</th>\n",
       "      <td>0.003906</td>\n",
       "      <td>1.000000</td>\n",
       "    </tr>\n",
       "  </tbody>\n",
       "</table>\n",
       "</div>"
      ],
      "text/plain": [
       "        pmf       cdf\n",
       "0  0.003906  0.003906\n",
       "1  0.031250  0.035156\n",
       "2  0.109375  0.144531\n",
       "3  0.218750  0.363281\n",
       "4  0.273438  0.636719\n",
       "5  0.218750  0.855469\n",
       "6  0.109375  0.964844\n",
       "7  0.031250  0.996094\n",
       "8  0.003906  1.000000"
      ]
     },
     "execution_count": 11,
     "metadata": {},
     "output_type": "execute_result"
    }
   ],
   "source": [
    "pmfcdf = {'pmf': pmf, 'cdf': cdf}\n",
    "df = pd.DataFrame(pmfcdf)\n",
    "df"
   ]
  },
  {
   "cell_type": "code",
   "execution_count": 12,
   "metadata": {},
   "outputs": [
    {
     "data": {
      "image/png": "[encoded data removed]",
      "text/plain": [
       "<Figure size 432x288 with 1 Axes>"
      ]
     },
     "metadata": {
      "needs_background": "light"
     },
     "output_type": "display_data"
    }
   ],
   "source": [
    "fig, ax = plt.subplots()\n",
    "index = np.arange(len(pmf))\n",
    "bar_width = 0.20\n",
    "opacity = 0.8\n",
    "\n",
    "rects1 = plt.bar(index, pmf.values(), bar_width, alpha=opacity, color='b', label='PMF')\n",
    "\n",
    "# rects2 = plt.bar(index+bar_width, cdf.values(), bar_width, alpha=opacity, color='g', label='CDF')\n",
    "\n",
    "plt.xlabel('k')\n",
    "plt.ylabel('probability')\n",
    "plt.title('Probability given k')\n",
    "plt.xticks(index + bar_width, pmf.keys())\n",
    "plt.legend()\n",
    "\n",
    "plt.tight_layout()\n",
    "plt.show()"
   ]
  },
  {
   "cell_type": "markdown",
   "metadata": {},
   "source": [
    "### Exercise 3 f"
   ]
  },
  {
   "cell_type": "code",
   "execution_count": 13,
   "metadata": {},
   "outputs": [
    {
     "name": "stdout",
     "output_type": "stream",
     "text": [
      "pmf for: 0 -> 0.401877572016461\n",
      "pmf for: 1 -> 0.40187757201646096\n",
      "pmf for: 2 -> 0.1607510288065844\n",
      "pmf for: 3 -> 0.03215020576131687\n",
      "pmf for: 4 -> 0.003215020576131687\n",
      "pmf for: 5 -> 0.00012860082304526745\n",
      "pmf for: 6 -> 0\n",
      "pmf for: 7 -> 0\n",
      "pmf for: 8 -> 0\n",
      "-----------------------------\n",
      "cdf for: 0 -> 0.401877572016461\n",
      "cdf for: 1 -> 0.803755144032922\n",
      "cdf for: 2 -> 0.9645061728395065\n",
      "cdf for: 3 -> 0.9966563786008233\n",
      "cdf for: 4 -> 0.999871399176955\n",
      "cdf for: 5 -> 1.0000000000000002\n",
      "cdf for: 6 -> 1.0000000000000002\n",
      "cdf for: 7 -> 1.0000000000000002\n",
      "cdf for: 8 -> 1.0000000000000002\n"
     ]
    }
   ],
   "source": [
    "n = 5\n",
    "p = 1/6\n",
    "pmf_f = {}\n",
    "cdf_f = {}\n",
    "for k in range(0, 9):\n",
    "    pmf_f[k] = binom_pmf(k, n, p)\n",
    "    print(\"pmf for:\", k, \"->\", pmf_f[k])\n",
    "print(\"-----------------------------\")\n",
    "for k in range(0, 9):\n",
    "    cdf_f[k] = binom_cdf(k, n, p)\n",
    "    print(\"cdf for:\", k, \"->\", cdf_f[k])"
   ]
  },
  {
   "cell_type": "code",
   "execution_count": 14,
   "metadata": {},
   "outputs": [
    {
     "data": {
      "text/html": [
       "<div>\n",
       "<style scoped>\n",
       "    .dataframe tbody tr th:only-of-type {\n",
       "        vertical-align: middle;\n",
       "    }\n",
       "\n",
       "    .dataframe tbody tr th {\n",
       "        vertical-align: top;\n",
       "    }\n",
       "\n",
       "    .dataframe thead th {\n",
       "        text-align: right;\n",
       "    }\n",
       "</style>\n",
       "<table border=\"1\" class=\"dataframe\">\n",
       "  <thead>\n",
       "    <tr style=\"text-align: right;\">\n",
       "      <th></th>\n",
       "      <th>pmf</th>\n",
       "      <th>cdf</th>\n",
       "    </tr>\n",
       "  </thead>\n",
       "  <tbody>\n",
       "    <tr>\n",
       "      <th>0</th>\n",
       "      <td>0.401878</td>\n",
       "      <td>0.401878</td>\n",
       "    </tr>\n",
       "    <tr>\n",
       "      <th>1</th>\n",
       "      <td>0.401878</td>\n",
       "      <td>0.803755</td>\n",
       "    </tr>\n",
       "    <tr>\n",
       "      <th>2</th>\n",
       "      <td>0.160751</td>\n",
       "      <td>0.964506</td>\n",
       "    </tr>\n",
       "    <tr>\n",
       "      <th>3</th>\n",
       "      <td>0.032150</td>\n",
       "      <td>0.996656</td>\n",
       "    </tr>\n",
       "    <tr>\n",
       "      <th>4</th>\n",
       "      <td>0.003215</td>\n",
       "      <td>0.999871</td>\n",
       "    </tr>\n",
       "    <tr>\n",
       "      <th>5</th>\n",
       "      <td>0.000129</td>\n",
       "      <td>1.000000</td>\n",
       "    </tr>\n",
       "    <tr>\n",
       "      <th>6</th>\n",
       "      <td>0.000000</td>\n",
       "      <td>1.000000</td>\n",
       "    </tr>\n",
       "    <tr>\n",
       "      <th>7</th>\n",
       "      <td>0.000000</td>\n",
       "      <td>1.000000</td>\n",
       "    </tr>\n",
       "    <tr>\n",
       "      <th>8</th>\n",
       "      <td>0.000000</td>\n",
       "      <td>1.000000</td>\n",
       "    </tr>\n",
       "  </tbody>\n",
       "</table>\n",
       "</div>"
      ],
      "text/plain": [
       "        pmf       cdf\n",
       "0  0.401878  0.401878\n",
       "1  0.401878  0.803755\n",
       "2  0.160751  0.964506\n",
       "3  0.032150  0.996656\n",
       "4  0.003215  0.999871\n",
       "5  0.000129  1.000000\n",
       "6  0.000000  1.000000\n",
       "7  0.000000  1.000000\n",
       "8  0.000000  1.000000"
      ]
     },
     "execution_count": 14,
     "metadata": {},
     "output_type": "execute_result"
    }
   ],
   "source": [
    "pmf_cdf = {'pmf': pmf_f, 'cdf': cdf_f}\n",
    "df = pd.DataFrame(pmf_cdf)\n",
    "df"
   ]
  },
  {
   "cell_type": "code",
   "execution_count": 15,
   "metadata": {},
   "outputs": [
    {
     "data": {
      "image/png": "[encoded data removed]",
      "text/plain": [
       "<Figure size 432x288 with 1 Axes>"
      ]
     },
     "metadata": {
      "needs_background": "light"
     },
     "output_type": "display_data"
    }
   ],
   "source": [
    "fig, ax = plt.subplots()\n",
    "index = np.arange(len(pmf_f))\n",
    "bar_width = 0.20\n",
    "opacity = 0.8\n",
    "\n",
    "rects1 = plt.bar(index, pmf_f.values(), bar_width, alpha=opacity, color='b', label='PMF')\n",
    "\n",
    "#rects2 = plt.bar(index+bar_width, cdf_f.values(), bar_width, alpha=opacity, color='g', label='CDF')\n",
    "\n",
    "plt.xlabel('k')\n",
    "plt.ylabel('probability')\n",
    "plt.title('Probability given k')\n",
    "plt.xticks(index + bar_width, pmf.keys())\n",
    "plt.legend()\n",
    "\n",
    "plt.tight_layout()\n",
    "plt.show()"
   ]
  },
  {
   "cell_type": "code",
   "execution_count": 1,
   "metadata": {},
   "outputs": [
    {
     "name": "stdout",
     "output_type": "stream",
     "text": [
      "hello\n"
     ]
    }
   ],
   "source": [
    "print(\"hello\")"
   ]
  },
  {
   "cell_type": "code",
   "execution_count": null,
   "metadata": {},
   "outputs": [],
   "source": []
  }
 ],
 "metadata": {
  "kernelspec": {
   "display_name": "Python 3",
   "language": "python",
   "name": "python3"
  },
  "language_info": {
   "codemirror_mode": {
    "name": "ipython",
    "version": 3
   },
   "file_extension": ".py",
   "mimetype": "text/x-python",
   "name": "python",
   "nbconvert_exporter": "python",
   "pygments_lexer": "ipython3",
   "version": "3.7.4"
  }
 },
 "nbformat": 4,
 "nbformat_minor": 2
}
