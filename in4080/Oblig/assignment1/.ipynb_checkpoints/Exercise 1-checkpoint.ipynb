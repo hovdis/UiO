{
 "cells": [
  {
   "cell_type": "markdown",
   "metadata": {},
   "source": [
    "### Exercise 1 a"
   ]
  },
  {
   "cell_type": "code",
   "execution_count": 9,
   "metadata": {},
   "outputs": [],
   "source": [
    "import nltk\n",
    "from nltk.corpus import brown\n",
    "import pandas as pd\n",
    "import numpy as np"
   ]
  },
  {
   "cell_type": "code",
   "execution_count": 25,
   "metadata": {},
   "outputs": [],
   "source": [
    "label = ['he', 'him', 'she', 'her']\n",
    "categories = ['news', 'religion', 'government', 'fiction', 'romance']"
   ]
  },
  {
   "cell_type": "code",
   "execution_count": 26,
   "metadata": {},
   "outputs": [],
   "source": [
    "data = {}\n",
    "for category in categories:\n",
    "    data[category] = nltk.FreqDist([w.lower() for w in brown.words(categories=category) if w.lower() in label])"
   ]
  },
  {
   "cell_type": "code",
   "execution_count": 29,
   "metadata": {},
   "outputs": [
    {
     "data": {
      "text/html": [
       "<div>\n",
       "<style scoped>\n",
       "    .dataframe tbody tr th:only-of-type {\n",
       "        vertical-align: middle;\n",
       "    }\n",
       "\n",
       "    .dataframe tbody tr th {\n",
       "        vertical-align: top;\n",
       "    }\n",
       "\n",
       "    .dataframe thead th {\n",
       "        text-align: right;\n",
       "    }\n",
       "</style>\n",
       "<table border=\"1\" class=\"dataframe\">\n",
       "  <thead>\n",
       "    <tr style=\"text-align: right;\">\n",
       "      <th></th>\n",
       "      <th>he</th>\n",
       "      <th>him</th>\n",
       "      <th>she</th>\n",
       "      <th>her</th>\n",
       "    </tr>\n",
       "  </thead>\n",
       "  <tbody>\n",
       "    <tr>\n",
       "      <th>fiction</th>\n",
       "      <td>1308</td>\n",
       "      <td>382</td>\n",
       "      <td>425</td>\n",
       "      <td>413</td>\n",
       "    </tr>\n",
       "    <tr>\n",
       "      <th>government</th>\n",
       "      <td>169</td>\n",
       "      <td>26</td>\n",
       "      <td>1</td>\n",
       "      <td>3</td>\n",
       "    </tr>\n",
       "    <tr>\n",
       "      <th>news</th>\n",
       "      <td>642</td>\n",
       "      <td>93</td>\n",
       "      <td>77</td>\n",
       "      <td>121</td>\n",
       "    </tr>\n",
       "    <tr>\n",
       "      <th>religion</th>\n",
       "      <td>206</td>\n",
       "      <td>94</td>\n",
       "      <td>12</td>\n",
       "      <td>8</td>\n",
       "    </tr>\n",
       "    <tr>\n",
       "      <th>romance</th>\n",
       "      <td>1068</td>\n",
       "      <td>340</td>\n",
       "      <td>728</td>\n",
       "      <td>680</td>\n",
       "    </tr>\n",
       "  </tbody>\n",
       "</table>\n",
       "</div>"
      ],
      "text/plain": [
       "              he  him  she  her\n",
       "fiction     1308  382  425  413\n",
       "government   169   26    1    3\n",
       "news         642   93   77  121\n",
       "religion     206   94   12    8\n",
       "romance     1068  340  728  680"
      ]
     },
     "execution_count": 29,
     "metadata": {},
     "output_type": "execute_result"
    }
   ],
   "source": [
    "testframe = pd.DataFrame.from_dict(data, orient='index')\n",
    "testframe"
   ]
  },
  {
   "cell_type": "markdown",
   "metadata": {},
   "source": [
    "### Exercise 1 b\n",
    "I general, he/him are used more often than she/her, except for in romance, where it seems that they are used exactly the same amount of times."
   ]
  },
  {
   "cell_type": "markdown",
   "metadata": {},
   "source": [
    "### Exercice 1 c\n",
    "Here I should make a 2x2 table with: female nominative, female objective, male nominative and male objective.\n",
    "All these should be tried over all of brown corpus.\n",
    "the table should the look something like this:\n",
    "    | nom | obj\n",
    "---------------\n",
    "female| xx     | xx\n",
    "\n",
    "male    | xx    | xx\n",
    "\n",
    "Har snakket med en gruppelærer. Han sa at jeg skulle lage en tabell som beskrevet rett over.\n",
    "Her: personal pronoun and possessive pronoun\n",
    "\n",
    "({'PP$': 1775, 'PPO': 1106, 'PP$-NC': 4})\n",
    "\n",
    "$ = possessive\n",
    "Vi skal da altså bruke PPO vs PP$ (og eventuelt PP$-NC hvis vi vil)\n",
    "Denne ser fucka ut når man kompilere, så se hva teksten er i edit-format"
   ]
  },
  {
   "cell_type": "code",
   "execution_count": 29,
   "metadata": {},
   "outputs": [
    {
     "name": "stdout",
     "output_type": "stream",
     "text": [
      "        |possessive|objective|obj/pos\n",
      "masculin|9548      |2619     |0.21525437659242214\n",
      "Femenine|2860      |3036     |0.5149253731343284\n"
     ]
    }
   ],
   "source": [
    "possessive = ['she', 'he']\n",
    "objective = ['him', 'her']\n",
    "\n",
    "poss_count = nltk.FreqDist([w.lower() for w in brown.words() if w.lower() in possessive])\n",
    "obj_count = nltk.FreqDist([w.lower() for w in brown.words() if w.lower() in objective])\n",
    "poss_count\n",
    "obj_count\n",
    "print(\"        |possessive|objective|obj/pos\")\n",
    "print(\"masculin|{}      |{}     |{}\".format(poss_count['he'], obj_count['him'], (obj_count['him']/(poss_count['he']+obj_count['him']))))\n",
    "print(\"Femenine|{}      |{}     |{}\".format(poss_count['she'], obj_count['her'], (obj_count['her']/(poss_count['she']+obj_count['her']))))"
   ]
  },
  {
   "cell_type": "markdown",
   "metadata": {},
   "source": [
    "### Exercise 1 d"
   ]
  },
  {
   "cell_type": "code",
   "execution_count": 32,
   "metadata": {},
   "outputs": [],
   "source": [
    "personalLabel = ['she', 'he', 'her', 'him']\n",
    "possessiveLabel = ['her', 'his', 'hers']"
   ]
  },
  {
   "cell_type": "markdown",
   "metadata": {},
   "source": [
    "Need to use tagged brown-corpus.\n",
    "her-personal pronoun and her-possessive pronoun\n",
    "### TODO: finne ut hvilke tagger det er\n",
    "two-ways table"
   ]
  },
  {
   "cell_type": "code",
   "execution_count": 3,
   "metadata": {},
   "outputs": [
    {
     "name": "stdout",
     "output_type": "stream",
     "text": [
      "<FreqDist with 3 samples and 2885 outcomes>\n"
     ]
    }
   ],
   "source": [
    "label1 = ['her']\n",
    "test = nltk.FreqDist([tag for (word, tag) in brown.tagged_words() if word in label1])\n",
    "print(test)"
   ]
  },
  {
   "cell_type": "code",
   "execution_count": 4,
   "metadata": {},
   "outputs": [
    {
     "data": {
      "text/plain": [
       "FreqDist({'PP$': 1775, 'PPO': 1106, 'PP$-NC': 4})"
      ]
     },
     "execution_count": 4,
     "metadata": {},
     "output_type": "execute_result"
    }
   ],
   "source": [
    "test"
   ]
  },
  {
   "cell_type": "code",
   "execution_count": 37,
   "metadata": {},
   "outputs": [],
   "source": [
    "lell = ['her']"
   ]
  },
  {
   "cell_type": "markdown",
   "metadata": {},
   "source": [
    "```Note: I was not able to finish this exercise in time. I found myself spending most of my time figuring out how to generate good tables and plots instead of doing the actual task. Will need to either get better at plotting, or spend less time on that in the futute.```"
   ]
  },
  {
   "cell_type": "code",
   "execution_count": null,
   "metadata": {},
   "outputs": [],
   "source": []
  }
 ],
 "metadata": {
  "kernelspec": {
   "display_name": "Python 3",
   "language": "python",
   "name": "python3"
  },
  "language_info": {
   "codemirror_mode": {
    "name": "ipython",
    "version": 3
   },
   "file_extension": ".py",
   "mimetype": "text/x-python",
   "name": "python",
   "nbconvert_exporter": "python",
   "pygments_lexer": "ipython3",
   "version": "3.7.3"
  }
 },
 "nbformat": 4,
 "nbformat_minor": 2
}
